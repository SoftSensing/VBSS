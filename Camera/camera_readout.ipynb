{
 "cells": [
  {
   "cell_type": "code",
   "execution_count": 3,
   "outputs": [
    {
     "name": "stdout",
     "output_type": "stream",
     "text": [
      "Interrupted by user\n"
     ]
    },
    {
     "ename": "SystemExit",
     "evalue": "0",
     "output_type": "error",
     "traceback": [
      "An exception has occurred, use %tb to see the full traceback.\n",
      "\u001B[1;31mSystemExit\u001B[0m\u001B[1;31m:\u001B[0m 0\n"
     ]
    }
   ],
   "source": [
    "from pypylon import pylon\n",
    "import cv2\n",
    "import sys\n",
    "\n",
    "# Connecting to the first available camera\n",
    "camera = pylon.InstantCamera(pylon.TlFactory.GetInstance().CreateFirstDevice())\n",
    "\n",
    "# Grabbing Continuously (video) with minimal delay\n",
    "camera.StartGrabbing(pylon.GrabStrategy_LatestImageOnly)\n",
    "converter = pylon.ImageFormatConverter()\n",
    "\n",
    "# Converting to OpenCV bgr format\n",
    "converter.OutputPixelFormat = pylon.PixelType_BGR8packed\n",
    "converter.OutputBitAlignment = pylon.OutputBitAlignment_MsbAligned\n",
    "\n",
    "# Define the codec and create VideoWriter object\n",
    "fourcc = cv2.VideoWriter_fourcc(*'MP4V')\n",
    "out = cv2.VideoWriter('output.mp4', fourcc, 20.0, (640, 480))\n",
    "\n",
    "try:\n",
    "    while camera.IsGrabbing():\n",
    "        grabResult = camera.RetrieveResult(5000, pylon.TimeoutHandling_ThrowException)\n",
    "\n",
    "        if grabResult.GrabSucceeded():\n",
    "            # Access the image data\n",
    "            image = converter.Convert(grabResult)\n",
    "            img = image.GetArray()\n",
    "\n",
    "            # Write the frame\n",
    "            out.write(img)\n",
    "\n",
    "            # Show image (optional)\n",
    "            cv2.namedWindow('Camera Output', cv2.WINDOW_NORMAL)\n",
    "            cv2.imshow('Camera Output', img)\n",
    "            k = cv2.waitKey(1)\n",
    "            if k == 27:  # Esc key to stop\n",
    "                break\n",
    "\n",
    "        grabResult.Release()\n",
    "\n",
    "except KeyboardInterrupt:\n",
    "    print(\"Interrupted by user\")\n",
    "\n",
    "finally:\n",
    "    # Releasing the resource\n",
    "    camera.StopGrabbing()\n",
    "    out.release()\n",
    "    cv2.destroyAllWindows()\n",
    "    sys.exit(0)\n"
   ],
   "metadata": {
    "collapsed": false,
    "ExecuteTime": {
     "end_time": "2024-03-19T09:38:48.506085Z",
     "start_time": "2024-03-19T09:38:01.963738900Z"
    }
   }
  },
  {
   "cell_type": "code",
   "execution_count": 1,
   "outputs": [],
   "source": [],
   "metadata": {
    "collapsed": false,
    "ExecuteTime": {
     "end_time": "2024-03-19T09:36:23.102560700Z",
     "start_time": "2024-03-19T09:36:23.095874900Z"
    }
   }
  },
  {
   "cell_type": "code",
   "execution_count": null,
   "outputs": [],
   "source": [],
   "metadata": {
    "collapsed": false
   }
  }
 ],
 "metadata": {
  "kernelspec": {
   "display_name": "Python 3",
   "language": "python",
   "name": "python3"
  },
  "language_info": {
   "codemirror_mode": {
    "name": "ipython",
    "version": 2
   },
   "file_extension": ".py",
   "mimetype": "text/x-python",
   "name": "python",
   "nbconvert_exporter": "python",
   "pygments_lexer": "ipython2",
   "version": "2.7.6"
  }
 },
 "nbformat": 4,
 "nbformat_minor": 0
}
