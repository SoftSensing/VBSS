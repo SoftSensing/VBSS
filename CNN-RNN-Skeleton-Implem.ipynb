{
 "cells": [
  {
   "cell_type": "code",
   "execution_count": 1,
   "metadata": {},
   "outputs": [],
   "source": [
    "# Import libraries\n",
    "import numpy as np \n",
    "import matplotlib.pyplot as plt\n",
    "import os\n",
    "import torch\n",
    "import torch.nn as nn\n",
    "from torch.autograd import Variable\n",
    "from sklearn.model_selection import train_test_split\n",
    "from torch.utils.data import DataLoader, TensorDataset"
   ]
  },
  {
   "cell_type": "code",
   "execution_count": 2,
   "metadata": {},
   "outputs": [],
   "source": [
    "# Prepare Dataset\n",
    "# load data\n",
    "\n",
    "# relative path to npz files\n",
    "path = 'Measurements/manual single top deformed at 20Hz'\n",
    "file_name = 'output_batch_%d.npz'\n",
    "\n",
    "def load_file(path, batch_id):\n",
    "    \"\"\"\n",
    "    Loads in the memory a specific batch located in the given path.\n",
    "\n",
    "    Returns a numpy NpzFile object with the image frames np array named\n",
    "    as \"frames\" and the force measurements named as \"frames\".\n",
    "    \"\"\"\n",
    "    combined_path = os.path.join(path,file_name %i)\n",
    "    data = np.load(combined_path)\n",
    "    return data"
   ]
  },
  {
   "cell_type": "code",
   "execution_count": 3,
   "metadata": {},
   "outputs": [],
   "source": [
    "# Create RNN Model\n",
    "class RNNModel(nn.Module):\n",
    "    def __init__(self, input_channels, hidden_dim, layer_dim, output_dim):\n",
    "        super(RNNModel, self).__init__()\n",
    "        \n",
    "        # Convolutional layers\n",
    "        self.conv1 = nn.Conv2d(input_channels, 9, kernel_size = 5, stride = 1, padding = 2)\n",
    "        self.pool = nn.MaxPool2d(kernel_size = 4, stride = 4)\n",
    "        self.conv2 = nn.Conv2d(9, 18, kernel_size = 5, stride = 1, padding = 2)\n",
    "        \n",
    "        # RNN\n",
    "        self.hidden_dim = hidden_dim\n",
    "        self.layer_dim = layer_dim\n",
    "        self.rnn = nn.RNN(18 * 16 * 30, hidden_dim, layer_dim, batch_first=True, dropout = 0.2, nonlinearity='relu')\n",
    "        \n",
    "        # Readout layer\n",
    "        self.fc = nn.Linear(hidden_dim, output_dim)\n",
    "    \n",
    "    def forward(self, x):\n",
    "        # Convolutional layers\n",
    "        x = self.pool(nn.ELU()(self.conv1(x)))\n",
    "        x = self.pool(nn.ELU()(self.conv2(x)))\n",
    "        \n",
    "        # Reshape for RNN\n",
    "        # x = torch.reshape(x, (100, 10, 18 * 16 * 30))\n",
    "        x = torch.reshape(x, (10, 10, 18 * 16 * 30))  # Reshape to (batch_size, seq_len, input_size)\n",
    "        #print(\"Size of x:\", x.size())  # Print size of x\n",
    "        \n",
    "        # RNN\n",
    "        h0 = Variable(torch.zeros(self.layer_dim, x.size(0), self.hidden_dim))\n",
    "        #print(\"Size of h0:\", h0.size())  # Print size of h0 - Debugging - Obsolete\n",
    "        out, hn = self.rnn(x, h0)\n",
    "        \n",
    "        # Output layer\n",
    "        out = self.fc(out) \n",
    "        # out = torch.reshape(out, (1000, 1))\n",
    "        out = torch.reshape(out, (100, 1)) # go back to compare to labels\n",
    "        return out"
   ]
  },
  {
   "cell_type": "code",
   "execution_count": 4,
   "metadata": {},
   "outputs": [],
   "source": [
    "# Create RNN\n",
    "input_channels = 3  # RGB channels\n",
    "hidden_dim = 200  # hidden layer dimension\n",
    "layer_dim = 2     # number of hidden layers\n",
    "output_dim = 1   # output dimension\n",
    "\n",
    "model = RNNModel(input_channels, hidden_dim, layer_dim, output_dim)\n",
    "\n",
    "# Define your loss function\n",
    "error = nn.MSELoss()\n",
    "\n",
    "# Define your optimizer\n",
    "learning_rate = 0.0001\n",
    "optimizer = torch.optim.Adam(model.parameters(), lr=learning_rate)"
   ]
  },
  {
   "cell_type": "code",
   "execution_count": 5,
   "metadata": {},
   "outputs": [
    {
     "name": "stdout",
     "output_type": "stream",
     "text": [
      "Epoch: 1, MSE Loss: 67.03858184814453\n",
      "Epoch: 2, MSE Loss: 8.154960632324219\n",
      "Epoch: 3, MSE Loss: 2.8784918785095215\n",
      "Epoch: 4, MSE Loss: 1.9918529987335205\n",
      "Epoch: 5, MSE Loss: 1.492382526397705\n",
      "Epoch: 6, MSE Loss: 1.1219197511672974\n",
      "Epoch: 7, MSE Loss: 0.87245112657547\n",
      "Epoch: 8, MSE Loss: 0.7660211324691772\n",
      "Epoch: 9, MSE Loss: 0.6192594766616821\n",
      "Epoch: 10, MSE Loss: 0.5615960359573364\n",
      "Epoch: 11, MSE Loss: 0.5365857481956482\n",
      "Epoch: 12, MSE Loss: 0.4887928068637848\n",
      "Epoch: 13, MSE Loss: 0.45033973455429077\n",
      "Epoch: 14, MSE Loss: 0.44845128059387207\n",
      "Epoch: 15, MSE Loss: 0.41500526666641235\n",
      "Epoch: 16, MSE Loss: 0.3743651211261749\n",
      "Epoch: 17, MSE Loss: 0.36381444334983826\n",
      "Epoch: 18, MSE Loss: 0.3501524329185486\n",
      "Epoch: 19, MSE Loss: 0.3577442467212677\n",
      "Epoch: 20, MSE Loss: 0.3433437943458557\n"
     ]
    }
   ],
   "source": [
    "# Training\n",
    "\n",
    "file_size = 1000 # one file contains 1000 samples\n",
    "num_epochs = 20\n",
    "files_num = 2 # how many files to load\n",
    "seq_dim = 10\n",
    "loss_list = []\n",
    "iteration_list = []\n",
    "accuracy_list = []\n",
    "count = 0\n",
    "batch_size = 100 # should be something that leaves zero reminder when it divides the file_size\n",
    "last_iter = -files_num * file_size/batch_size\n",
    "for epoch in range(num_epochs):\n",
    "    for i in range(files_num):\n",
    "        data = load_file(path, i)\n",
    "        \n",
    "        for i in range(int(file_size/batch_size)):\n",
    "            images = torch.from_numpy(data['frames'][i*batch_size:(i+1)*batch_size,:,:,:]).float()\n",
    "            labels = torch.from_numpy(data['forces'][i*batch_size:(i+1)*batch_size,2]).float()        \n",
    "            # print(images.shape)  # Add this line to check the shape of images - Debugging purposes\n",
    "            images = images.permute(0, 3, 1, 2)\n",
    "                \n",
    "            # Clear gradients\n",
    "            optimizer.zero_grad()\n",
    "            \n",
    "            # Forward propagation\n",
    "            outputs = model(images)\n",
    "            outputs = torch.squeeze(outputs)\n",
    "            \n",
    "            # Calculate loss\n",
    "            loss = error(outputs, labels)\n",
    "            \n",
    "            # Backpropagation\n",
    "            loss.backward()\n",
    "            \n",
    "            # Update parameters\n",
    "            optimizer.step()\n",
    "            \n",
    "            count += 1\n",
    "                \n",
    "            # Store loss and iteration\n",
    "            loss_list.append(loss.data) #* (forces_z_std^2)\n",
    "    # Print Loss\n",
    "    print('Epoch: {}, MSE Loss: {}'.format((epoch+1), np.mean(loss_list[int(last_iter):]))) # * (forces_z_std^2)"
   ]
  },
  {
   "cell_type": "code",
   "execution_count": 6,
   "metadata": {},
   "outputs": [
    {
     "name": "stdout",
     "output_type": "stream",
     "text": [
      "[tensor(209.6279), tensor(255.2083), tensor(121.0022), tensor(67.7901), tensor(72.7014), tensor(95.6776), tensor(79.2049), tensor(55.9427), tensor(41.4206), tensor(44.2486), tensor(35.4829), tensor(51.9273), tensor(47.5969), tensor(31.1133), tensor(23.6617), tensor(22.9288), tensor(25.8019), tensor(19.1400), tensor(21.2715), tensor(19.0231), tensor(15.7309), tensor(13.6423), tensor(10.5604), tensor(10.5316), tensor(15.9692), tensor(10.4620), tensor(8.0624), tensor(9.2497), tensor(7.0840), tensor(6.3310), tensor(5.4603), tensor(6.7589), tensor(7.4036), tensor(5.1103), tensor(4.5497), tensor(6.1013), tensor(4.8221), tensor(4.9503), tensor(4.1045), tensor(6.2147), tensor(3.8175), tensor(2.5601), tensor(3.6823), tensor(4.1143), tensor(3.4850), tensor(2.6115), tensor(2.3620), tensor(3.4819), tensor(2.8160), tensor(2.8921), tensor(2.5300), tensor(3.0549), tensor(2.1113), tensor(2.5429), tensor(3.0344), tensor(3.0897), tensor(2.5729), tensor(1.9765), tensor(2.5262), tensor(2.3084), tensor(2.4632), tensor(1.7829), tensor(2.2033), tensor(2.6710), tensor(1.8270), tensor(1.7804), tensor(1.4744), tensor(2.4132), tensor(2.2230), tensor(1.7578), tensor(1.8162), tensor(1.9062), tensor(1.8939), tensor(2.1603), tensor(2.0527), tensor(2.0997), tensor(1.6382), tensor(1.5014), tensor(1.8562), tensor(2.3159), tensor(2.3956), tensor(1.9171), tensor(1.2821), tensor(1.2729), tensor(1.5153), tensor(1.0435), tensor(1.2075), tensor(1.3024), tensor(1.3459), tensor(1.4863), tensor(1.2893), tensor(1.6129), tensor(1.5294), tensor(1.6052), tensor(1.4390), tensor(1.5301), tensor(1.4192), tensor(1.1885), tensor(1.8114), tensor(1.6539), tensor(1.8940), tensor(1.0685), tensor(1.0170), tensor(1.1644), tensor(1.1262), tensor(0.9618), tensor(0.9666), tensor(1.1846), tensor(1.2836), tensor(1.2026), tensor(1.0548), tensor(1.0219), tensor(0.8386), tensor(1.1586), tensor(0.9970), tensor(1.1649), tensor(0.9888), tensor(0.9904), tensor(1.0211), tensor(1.3331), tensor(1.5137), tensor(0.8336), tensor(0.7976), tensor(0.7184), tensor(0.8471), tensor(0.5348), tensor(0.6645), tensor(1.0639), tensor(0.7768), tensor(1.2197), tensor(0.9804), tensor(0.8216), tensor(1.1263), tensor(0.5693), tensor(0.9940), tensor(0.6748), tensor(0.7935), tensor(0.6296), tensor(0.8170), tensor(1.0724), tensor(1.2948), tensor(0.8489), tensor(1.0681), tensor(0.7853), tensor(0.8534), tensor(0.4550), tensor(0.5318), tensor(1.0290), tensor(0.6166), tensor(0.7077), tensor(0.5458), tensor(0.8767), tensor(0.7909), tensor(0.8347), tensor(0.5460), tensor(0.7367), tensor(0.7446), tensor(0.4623), tensor(0.8634), tensor(0.7287), tensor(0.9005), tensor(0.5585), tensor(0.5953), tensor(0.5813), tensor(0.6825), tensor(0.3778), tensor(0.4682), tensor(0.5512), tensor(0.4981), tensor(0.7081), tensor(0.4987), tensor(0.7762), tensor(0.6238), tensor(0.5935), tensor(0.7013), tensor(0.6513), tensor(0.4525), tensor(0.4733), tensor(0.7102), tensor(0.9830), tensor(0.9070), tensor(0.5550), tensor(0.5958), tensor(0.5880), tensor(0.5966), tensor(0.4346), tensor(0.3539), tensor(0.7154), tensor(0.3563), tensor(0.6494), tensor(0.5767), tensor(0.6302), tensor(0.5369), tensor(0.4991), tensor(0.4422), tensor(0.7132), tensor(0.4857), tensor(0.4165), tensor(0.5129), tensor(0.6663), tensor(1.0021), tensor(0.4598), tensor(0.5005), tensor(0.4062), tensor(0.4799), tensor(0.3702), tensor(0.3312), tensor(0.6549), tensor(0.4726), tensor(0.6622), tensor(0.4143), tensor(0.5068), tensor(0.5735), tensor(0.3807), tensor(0.4721), tensor(0.7139), tensor(0.4649), tensor(0.4654), tensor(0.5837), tensor(0.8168), tensor(0.8693), tensor(0.4714), tensor(0.4932), tensor(0.4483), tensor(0.4836), tensor(0.3076), tensor(0.3264), tensor(0.4943), tensor(0.3800), tensor(0.5727), tensor(0.4860), tensor(0.4260), tensor(0.5614), tensor(0.5506), tensor(0.4834), tensor(0.6075), tensor(0.3747), tensor(0.3045), tensor(0.4991), tensor(0.6356), tensor(0.9316), tensor(0.4628), tensor(0.4680), tensor(0.3906), tensor(0.4341), tensor(0.4021), tensor(0.2568), tensor(0.5511), tensor(0.3278), tensor(0.5307), tensor(0.3655), tensor(0.4840), tensor(0.3374), tensor(0.3828), tensor(0.4825), tensor(0.5294), tensor(0.4247), tensor(0.2786), tensor(0.4064), tensor(0.5601), tensor(0.9754), tensor(0.3899), tensor(0.4192), tensor(0.5026), tensor(0.4629), tensor(0.4174), tensor(0.2506), tensor(0.4718), tensor(0.4060), tensor(0.4065), tensor(0.4554), tensor(0.5233), tensor(0.4459), tensor(0.4004), tensor(0.3440), tensor(0.4110), tensor(0.4410), tensor(0.3761), tensor(0.3838), tensor(0.4859), tensor(0.8134), tensor(0.3961), tensor(0.4319), tensor(0.3871), tensor(0.4474), tensor(0.3896), tensor(0.2101), tensor(0.4672), tensor(0.4074), tensor(0.4877), tensor(0.3602), tensor(0.4178), tensor(0.3353), tensor(0.3060), tensor(0.3199), tensor(0.3636), tensor(0.4009), tensor(0.2602), tensor(0.5195), tensor(0.5789), tensor(0.7193), tensor(0.3926), tensor(0.4515), tensor(0.4399), tensor(0.3779), tensor(0.3130), tensor(0.2093), tensor(0.3821), tensor(0.2927), tensor(0.3719), tensor(0.3788), tensor(0.3114), tensor(0.3036), tensor(0.2800), tensor(0.3463), tensor(0.3741), tensor(0.3634), tensor(0.2635), tensor(0.3904), tensor(0.5255), tensor(0.8918), tensor(0.3304), tensor(0.4697), tensor(0.3706), tensor(0.3786), tensor(0.2522), tensor(0.2264), tensor(0.3213), tensor(0.3013), tensor(0.4572), tensor(0.2789), tensor(0.3493), tensor(0.2696), tensor(0.3511), tensor(0.3127), tensor(0.3653), tensor(0.2444), tensor(0.2654), tensor(0.3306), tensor(0.5097), tensor(0.6218), tensor(0.3378), tensor(0.3956), tensor(0.3767), tensor(0.3403), tensor(0.2683), tensor(0.1907), tensor(0.4741), tensor(0.3644), tensor(0.3495), tensor(0.3390), tensor(0.3547), tensor(0.2409), tensor(0.2591), tensor(0.3122), tensor(0.2817), tensor(0.3466), tensor(0.2954), tensor(0.3583), tensor(0.4960), tensor(0.6606), tensor(0.3937), tensor(0.4547), tensor(0.3838), tensor(0.3189), tensor(0.3033), tensor(0.2285), tensor(0.4236), tensor(0.2777), tensor(0.3618), tensor(0.2985), tensor(0.3239), tensor(0.3419), tensor(0.3021), tensor(0.3789), tensor(0.3165), tensor(0.2771), tensor(0.2531), tensor(0.3230), tensor(0.5333), tensor(0.6732), tensor(0.3201), tensor(0.4912), tensor(0.3276), tensor(0.3582), tensor(0.2730), tensor(0.1695), tensor(0.4711), tensor(0.2296), tensor(0.4190), tensor(0.3211), tensor(0.3386), tensor(0.2980), tensor(0.3209), tensor(0.3700), tensor(0.3062), tensor(0.2283), tensor(0.2135), tensor(0.3243), tensor(0.4135)]\n",
      "0.58595544\n"
     ]
    },
    {
     "data": {
      "image/png": "[encoded data removed]",
      "text/plain": [
       "<Figure size 640x480 with 1 Axes>"
      ]
     },
     "metadata": {},
     "output_type": "display_data"
    }
   ],
   "source": [
    "print(loss_list)\n",
    "print(np.sqrt(np.mean(loss_list[-20:])))\n",
    "plt.plot(range(len(loss_list)), loss_list)\n",
    "plt.xlim((0,400))\n",
    "plt.ylim((0,5))\n",
    "plt.show()"
   ]
  },
  {
   "cell_type": "code",
   "execution_count": 7,
   "metadata": {},
   "outputs": [
    {
     "name": "stdout",
     "output_type": "stream",
     "text": [
      "tensor([-2.1637, -1.7495, -1.4801, -0.6333, -1.2201, -0.0983, -0.1355, -0.8148,\n",
      "        -0.3435, -0.4004, -0.0728,  0.0563, -0.4854, -0.5130, -0.3931, -0.1449,\n",
      "        -0.3364, -0.0821, -0.5105, -0.5808, -0.3740, -0.2816,  0.0471,  0.3000,\n",
      "        -0.7772, -0.0944, -0.0744, -0.2332, -0.2072,  0.1673, -0.2452, -0.5228,\n",
      "        -2.0017, -2.3652, -2.4606, -3.7290, -4.2695, -4.3258, -5.0241, -4.1871,\n",
      "        -4.6685, -4.7725, -4.9985, -3.6028, -3.5902, -2.5288, -0.6030, -1.0862,\n",
      "        -1.0695, -1.2297, -0.3970, -0.3145, -0.8253, -0.2758, -0.2521, -0.3168,\n",
      "        -0.3040, -0.3965, -0.3947, -0.5458,  0.0874, -0.1007, -0.3506, -0.1249,\n",
      "        -0.3092, -0.2456, -0.2814, -0.0598, -0.1910, -0.1388,  0.3232, -0.3033,\n",
      "        -0.3293, -1.2624, -2.2740, -1.1916, -3.2507, -4.0872, -3.7607, -3.7671,\n",
      "        -4.3118, -4.2782, -3.9567, -2.3358, -3.8690, -4.9020, -3.8977, -1.2612,\n",
      "        -0.3900, -0.5494, -1.2061, -0.9844, -0.5924, -0.2004, -0.5663, -0.7882,\n",
      "        -0.6571, -0.3619, -0.0848, -0.4312], grad_fn=<SqueezeBackward0>)\n"
     ]
    }
   ],
   "source": [
    "print(outputs) # Small sanity check"
   ]
  },
  {
   "cell_type": "code",
   "execution_count": 8,
   "metadata": {},
   "outputs": [
    {
     "name": "stdout",
     "output_type": "stream",
     "text": [
      "tensor([-0.9837, -0.1637, -0.1279, -0.1309, -0.1346, -0.1297, -0.1344, -0.1294,\n",
      "        -0.1343, -0.1282, -0.1322, -0.1240, -0.1298, -0.1313, -0.1317, -0.1270,\n",
      "        -0.1292, -0.1361, -0.1341, -0.1336, -0.1390, -0.1233, -0.1278, -0.1282,\n",
      "        -0.1346, -0.1320, -0.1334, -0.1283, -0.1324, -0.3513, -1.0552, -1.5855,\n",
      "        -2.5075, -2.8629, -3.2809, -3.5987, -4.0110, -4.4015, -4.5454, -4.9288,\n",
      "        -5.1063, -5.1722, -4.9448, -4.5689, -3.3009, -1.5864, -0.2401, -0.1187,\n",
      "        -0.1239, -0.1288, -0.1313, -0.1257, -0.1342, -0.1297, -0.1307, -0.1230,\n",
      "        -0.1293, -0.1233, -0.1307, -0.1248, -0.1389, -0.1326, -0.1363, -0.1292,\n",
      "        -0.1340, -0.1309, -0.1326, -0.1288, -0.1315, -0.1237, -0.1371, -0.3839,\n",
      "        -0.8983, -1.3171, -2.2785, -2.7973, -3.4132, -3.8083, -4.2586, -4.6140,\n",
      "        -4.6368, -4.7419, -4.7785, -4.7576, -4.3578, -3.5074, -1.8832, -0.4341,\n",
      "        -0.1187, -0.1313, -0.1282, -0.1306, -0.1325, -0.1369, -0.1345, -0.1265,\n",
      "        -0.1310, -0.1315, -0.1313, -0.1277])\n"
     ]
    }
   ],
   "source": [
    "print(labels.float())"
   ]
  },
  {
   "cell_type": "markdown",
   "metadata": {},
   "source": [
    "Notes: Batch size of 100, sequence length of 10, dropout of 20%.\n",
    "Next step: normalization."
   ]
  }
 ],
 "metadata": {
  "kernelspec": {
   "display_name": "my-env4",
   "language": "python",
   "name": "python3"
  },
  "language_info": {
   "codemirror_mode": {
    "name": "ipython",
    "version": 3
   },
   "file_extension": ".py",
   "mimetype": "text/x-python",
   "name": "python",
   "nbconvert_exporter": "python",
   "pygments_lexer": "ipython3",
   "version": "3.11.9"
  }
 },
 "nbformat": 4,
 "nbformat_minor": 2
}
