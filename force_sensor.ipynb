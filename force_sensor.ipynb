{
 "cells": [
  {
   "cell_type": "markdown",
   "metadata": {},
   "source": [
    "# Experiments for the wittenstein/resense HEX 12 f/t sensor\n",
    "\n",
    "## Imports"
   ]
  },
  {
   "cell_type": "code",
   "execution_count": 11,
   "metadata": {
    "ExecuteTime": {
     "end_time": "2024-03-25T13:59:18.357125100Z",
     "start_time": "2024-03-25T13:59:18.275852Z"
    }
   },
   "outputs": [],
   "source": [
    "import serial\n",
    "from signal import signal, SIGINT\n",
    "from sys import exit\n",
    "import pandas as pd\n",
    "import datetime\n",
    "import struct\n",
    "import imp\n",
    "import numpy as np\n",
    "import os\n",
    "import matplotlib.pyplot as plt\n",
    "import time\n",
    "import pypylon.pylon as py\n",
    "\n",
    "PORT = 'COM6' # Specify COM port as seen in device manager or FT-Explorer\n",
    "PATH = \"C:\\\\Users\\\\klaem\\\\Dropbox\\\\5ARIP10\\\\VBSS\\\\force\" # Path for storing the data\n",
    "SAMPLE = 100  # Sample rate as set by DIP configuration 100 Hz, 500Hz, 1000Hz"
   ]
  },
  {
   "cell_type": "markdown",
   "metadata": {},
   "source": [
    "## Using the native rate\n",
    "\n",
    "### Get the data\n",
    "Get a recording based on the desired length in minutes with the native rate of the sensor. Save the data as a pandas dataframe."
   ]
  },
  {
   "cell_type": "code",
   "execution_count": 12,
   "metadata": {
    "ExecuteTime": {
     "end_time": "2024-03-25T13:59:48.381659200Z",
     "start_time": "2024-03-25T13:59:18.296563700Z"
    }
   },
   "outputs": [
    {
     "name": "stdout",
     "output_type": "stream",
     "text": [
      "Elapsed time: 29.985195636749268\n"
     ]
    }
   ],
   "source": [
    "# Enable matrix calculation on electronics \n",
    "os.chdir(PATH)\n",
    "ser = serial.Serial(PORT, 12000000) \n",
    "rec_time=0.5  # Record time in minutes\n",
    "force_data = []\n",
    "\n",
    "start = time.time()\n",
    "\n",
    "for x in range(1,int(SAMPLE*60*rec_time)):\n",
    "    serial_line = ser.read(28)  # Read one dataset from COM Port\n",
    "    # [F_x,F_y,F_z,M_x,M_y,M_z,Temp]\n",
    "    [CH2, CH1, CH4, CH3, CH6, CH5, temp] = struct.unpack('fffffff', serial_line[0:28]) # Unpack data\n",
    "    force_data.append([datetime.datetime.now(), CH2, CH1, CH4, CH3, CH6, CH5, temp]); # add data to pandas datafame\n",
    "\n",
    "end = time.time()\n",
    "\n",
    "print('Elapsed time:',end - start)\n",
    "\n",
    "df = pd.DataFrame(force_data)\n",
    "df.to_csv('Original_sample_rate.csv')\n",
    "\n",
    "ser.close()"
   ]
  },
  {
   "cell_type": "markdown",
   "metadata": {},
   "source": [
    "### Plot the recording"
   ]
  },
  {
   "cell_type": "code",
   "execution_count": 13,
   "metadata": {
    "ExecuteTime": {
     "end_time": "2024-03-25T13:59:49.620632800Z",
     "start_time": "2024-03-25T13:59:48.391372500Z"
    }
   },
   "outputs": [
    {
     "data": {
      "text/plain": "<Figure size 1400x700 with 6 Axes>",
      "image/png": "[encoded data removed]"
     },
     "metadata": {},
     "output_type": "display_data"
    }
   ],
   "source": [
    "def plot_recording(df):\n",
    "    values = df.to_numpy() # convert dataframe to numpy array\n",
    "\n",
    "    fig, ax = plt.subplots(nrows=2, ncols=3, figsize=(14, 7))\n",
    "    labels = ['Fx','Fy','Fz','Mx','My','Mz']\n",
    "    i = 0\n",
    "    for row in ax:\n",
    "        for col in row:\n",
    "            col.plot(values[:,[i+1]],label=labels[i])\n",
    "            if 'F' in labels[i]:\n",
    "                col.set_ylim([-25, 25])\n",
    "            else:\n",
    "                col.set_ylim([-125, 125])\n",
    "            col.legend()\n",
    "            i += 1\n",
    "    plt.show()\n",
    "\n",
    "plot_recording(df)\n"
   ]
  },
  {
   "cell_type": "markdown",
   "metadata": {},
   "source": [
    "## Record with a smaller rate\n",
    "\n",
    "The aim is to record the force sensor data simultaneously with the camera images at the same rate. The smallest sample rate of the force sensor is 100Hz. Although we can skip the unnecessary samples and keep the ones we need in order to match the desired sample rate."
   ]
  },
  {
   "cell_type": "code",
   "execution_count": 14,
   "metadata": {
    "ExecuteTime": {
     "end_time": "2024-03-25T14:00:19.677762700Z",
     "start_time": "2024-03-25T13:59:49.631145300Z"
    }
   },
   "outputs": [
    {
     "name": "stdout",
     "output_type": "stream",
     "text": [
      "Elapsed time: 29.981946229934692\n"
     ]
    }
   ],
   "source": [
    "# Enable matrix calculation on electronics \n",
    "os.chdir(PATH)\n",
    "ser = serial.Serial(PORT, 12000000) \n",
    "rec_time=0.5  # Record time in minutes\n",
    "force_data = []\n",
    "\n",
    "desired_rate = 20 # desired rate in hertz, smaller than the sample rate\n",
    "ratio = int(SAMPLE/desired_rate)\n",
    "\n",
    "count = 1\n",
    "start = time.time()\n",
    "for x in range(1,int(SAMPLE*60*rec_time)):\n",
    "    serial_line = ser.read(28)  # Read one dataset from COM Port\n",
    "    if count == 1:\n",
    "        # [F_x,F_y,F_z,M_x,M_y,M_z,Temp]\n",
    "        [CH2, CH1, CH4, CH3, CH6, CH5, temp] = struct.unpack('fffffff', serial_line[0:28]) # Unpack data\n",
    "        force_data.append([datetime.datetime.now(), CH2, CH1, CH4, CH3, CH6, CH5, temp]); # add data to pandas datafame\n",
    "    elif count == ratio:\n",
    "        count = 0\n",
    "    count += 1\n",
    "end = time.time()\n",
    "\n",
    "print('Elapsed time:',end - start)\n",
    "\n",
    "df = pd.DataFrame(force_data)\n",
    "df.to_csv('Downsampled.csv')\n",
    "\n",
    "ser.close()"
   ]
  },
  {
   "cell_type": "code",
   "execution_count": 15,
   "metadata": {
    "ExecuteTime": {
     "end_time": "2024-03-25T14:00:21.085328800Z",
     "start_time": "2024-03-25T14:00:19.686009600Z"
    }
   },
   "outputs": [
    {
     "data": {
      "text/plain": "<Figure size 1400x700 with 6 Axes>",
      "image/png": "[encoded data removed]"
     },
     "metadata": {},
     "output_type": "display_data"
    }
   ],
   "source": [
    "plot_recording(df)"
   ]
  },
  {
   "cell_type": "markdown",
   "metadata": {},
   "source": [
    "## Combine with camera\n",
    "\n",
    "### Camera instantiation"
   ]
  },
  {
   "cell_type": "code",
   "execution_count": 16,
   "metadata": {
    "ExecuteTime": {
     "end_time": "2024-03-25T14:00:23.366772400Z",
     "start_time": "2024-03-25T14:00:21.089744300Z"
    }
   },
   "outputs": [
    {
     "ename": "RuntimeException",
     "evalue": "No device is available or no device contains the provided device info properties. : RuntimeException thrown (file 'tlfactory.cpp', line 694)",
     "output_type": "error",
     "traceback": [
      "\u001B[1;31m---------------------------------------------------------------------------\u001B[0m",
      "\u001B[1;31mRuntimeException\u001B[0m                          Traceback (most recent call last)",
      "Cell \u001B[1;32mIn[16], line 1\u001B[0m\n\u001B[1;32m----> 1\u001B[0m cam \u001B[38;5;241m=\u001B[39m py\u001B[38;5;241m.\u001B[39mInstantCamera(\u001B[43mpy\u001B[49m\u001B[38;5;241;43m.\u001B[39;49m\u001B[43mTlFactory\u001B[49m\u001B[38;5;241;43m.\u001B[39;49m\u001B[43mGetInstance\u001B[49m\u001B[43m(\u001B[49m\u001B[43m)\u001B[49m\u001B[38;5;241;43m.\u001B[39;49m\u001B[43mCreateFirstDevice\u001B[49m\u001B[43m(\u001B[49m\u001B[43m)\u001B[49m)\n\u001B[0;32m      2\u001B[0m cam\u001B[38;5;241m.\u001B[39mOpen()\n\u001B[0;32m      4\u001B[0m \u001B[38;5;66;03m# to get consistant results it is always good to start from \"power-on\" state\u001B[39;00m\n",
      "File \u001B[1;32m~\\AppData\\Local\\Programs\\Python\\Python310\\lib\\site-packages\\pypylon\\pylon.py:1720\u001B[0m, in \u001B[0;36mTlFactory.CreateFirstDevice\u001B[1;34m(self, *args)\u001B[0m\n\u001B[0;32m   1712\u001B[0m \u001B[38;5;28;01mdef\u001B[39;00m \u001B[38;5;21mCreateFirstDevice\u001B[39m(\u001B[38;5;28mself\u001B[39m, \u001B[38;5;241m*\u001B[39margs):\n\u001B[0;32m   1713\u001B[0m \u001B[38;5;250m    \u001B[39m\u001B[38;5;124mr\u001B[39m\u001B[38;5;124;03m\"\"\"\u001B[39;00m\n\u001B[0;32m   1714\u001B[0m \n\u001B[0;32m   1715\u001B[0m \n\u001B[1;32m   (...)\u001B[0m\n\u001B[0;32m   1718\u001B[0m \n\u001B[0;32m   1719\u001B[0m \u001B[38;5;124;03m    \"\"\"\u001B[39;00m\n\u001B[1;32m-> 1720\u001B[0m     \u001B[38;5;28;01mreturn\u001B[39;00m \u001B[43m_pylon\u001B[49m\u001B[38;5;241;43m.\u001B[39;49m\u001B[43mTlFactory_CreateFirstDevice\u001B[49m\u001B[43m(\u001B[49m\u001B[38;5;28;43mself\u001B[39;49m\u001B[43m,\u001B[49m\u001B[43m \u001B[49m\u001B[38;5;241;43m*\u001B[39;49m\u001B[43margs\u001B[49m\u001B[43m)\u001B[49m\n",
      "\u001B[1;31mRuntimeException\u001B[0m: No device is available or no device contains the provided device info properties. : RuntimeException thrown (file 'tlfactory.cpp', line 694)"
     ]
    }
   ],
   "source": [
    "cam = py.InstantCamera(py.TlFactory.GetInstance().CreateFirstDevice())\n",
    "cam.Open()\n",
    "\n",
    "# to get consistant results it is always good to start from \"power-on\" state\n",
    "cam.UserSetSelector = cam.UserSetDefault.Value\n",
    "cam.UserSetLoad.Execute()\n",
    "\n",
    "# The parameter MaxNumBuffer can be used to control the count of buffers\n",
    "# allocated for grabbing. The default value of this parameter is 10.\n",
    "cam.MaxNumBuffer.Value = 15\n",
    "\n",
    "cam.Gain = 20\n",
    "\n",
    "#cam.ExposureTime = cam.ExposureTime.Min\n",
    "cam.PixelFormat = \"RGB8\"\n",
    "\n",
    "# show expected framerate max framerate ( @ minimum exposure time)\n",
    "print(cam.ResultingFrameRate.Value)"
   ]
  },
  {
   "cell_type": "markdown",
   "metadata": {},
   "source": [
    "### Grab images and record force sensor measurements"
   ]
  },
  {
   "cell_type": "code",
   "execution_count": null,
   "metadata": {},
   "outputs": [],
   "source": [
    "# Enable matrix calculation on electronics \n",
    "os.chdir(PATH)\n",
    "rec_time=0.5  # Record time in minutes\n",
    "stamps = []\n",
    "force_data = []\n",
    "image_data = []\n",
    "\n",
    "desired_rate = 20 # desired rate in hertz, smaller than the sample rate\n",
    "ratio = int(SAMPLE/desired_rate)\n",
    "\n",
    "# Start taking measurements\n",
    "cam.StartGrabbing(py.GrabStrategy_LatestImageOnly)\n",
    "ser = serial.Serial(PORT, 12000000)\n",
    "\n",
    "count = 1\n",
    "start = time.time()\n",
    "for x in range(1,int(SAMPLE*60*rec_time)):\n",
    "    serial_line = ser.read(28)  # Read one dataset from COM Port\n",
    "    if count == 1:\n",
    "        stamps.append(datetime.datetime.now())\n",
    "        # [F_x,F_y,F_z,M_x,M_y,M_z,Temp]\n",
    "        [CH2, CH1, CH4, CH3, CH6, CH5, temp] = struct.unpack('fffffff', serial_line[0:28]) # Unpack data\n",
    "        force_data.append([CH2, CH1, CH4, CH3, CH6, CH5, temp]); # add data to pandas datafame\n",
    "        with cam.RetrieveResult(1000) as res:\n",
    "            if res.GrabSucceeded():\n",
    "                image_data.append(res.Array)\n",
    "            else:\n",
    "                raise RuntimeError(\"Grab failed\")\n",
    "    elif count == ratio:\n",
    "        count = 0\n",
    "    count += 1\n",
    "end = time.time()\n",
    "\n",
    "print('Elapsed time:',end - start)\n",
    "\n",
    "df = pd.DataFrame(\n",
    "    {'time': stamps,\n",
    "     'force/torque': force_data,\n",
    "     'image': image_data\n",
    "    })\n",
    "df.to_csv('Combined.csv')\n",
    "\n",
    "cam.StopGrabbing()\n",
    "#cam.close()\n",
    "ser.close()"
   ]
  },
  {
   "cell_type": "code",
   "execution_count": null,
   "metadata": {},
   "outputs": [],
   "source": [
    "# Run in case of open serial or camera chanel\n",
    "cam.StopGrabbing()\n",
    "#cam.close()\n",
    "ser.close()"
   ]
  },
  {
   "cell_type": "markdown",
   "metadata": {},
   "source": [
    "### Read saved data"
   ]
  },
  {
   "cell_type": "code",
   "execution_count": null,
   "metadata": {},
   "outputs": [],
   "source": [
    "os.chdir(PATH)\n",
    "df = pd.read_csv('Combined.csv')\n",
    "print( df['image'][300].shape )\n",
    "plt.imshow(df['image'][300])\n"
   ]
  },
  {
   "cell_type": "code",
   "execution_count": null,
   "metadata": {},
   "outputs": [],
   "source": [
    "np.array(df['image'][0][0][0][0][0]).shape"
   ]
  }
 ],
 "metadata": {
  "kernelspec": {
   "display_name": "Python 3",
   "language": "python",
   "name": "python3"
  },
  "language_info": {
   "codemirror_mode": {
    "name": "ipython",
    "version": 3
   },
   "file_extension": ".py",
   "mimetype": "text/x-python",
   "name": "python",
   "nbconvert_exporter": "python",
   "pygments_lexer": "ipython3",
   "version": "3.8.7"
  }
 },
 "nbformat": 4,
 "nbformat_minor": 2
}
