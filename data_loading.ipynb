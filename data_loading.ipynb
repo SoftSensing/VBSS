{
 "cells": [
  {
   "cell_type": "code",
   "execution_count": 1,
   "metadata": {},
   "outputs": [],
   "source": [
    "# Import libraries\n",
    "import numpy as np \n",
    "import matplotlib.pyplot as plt\n",
    "import os\n",
    "import torch\n",
    "import torch.nn as nn\n",
    "from torch.autograd import Variable\n",
    "from sklearn.model_selection import train_test_split\n",
    "from torch.utils.data import DataLoader, TensorDataset\n",
    "import cv2"
   ]
  },
  {
   "cell_type": "code",
   "execution_count": 2,
   "metadata": {},
   "outputs": [],
   "source": [
    "# relative path to npz files\n",
    "path = 'Measurements/attenuation 003'\n",
    "file_name = 'output_batch_%d.npz'\n",
    "# i = 1\n",
    "# file_path = os.path.join(path,file_name %i)\n",
    "# data = np.load(file_path)\n",
    "# type(data)"
   ]
  },
  {
   "cell_type": "code",
   "execution_count": 3,
   "metadata": {},
   "outputs": [
    {
     "name": "stdout",
     "output_type": "stream",
     "text": [
      "Successfully loaded file: 0\n",
      "Successfully loaded file: 1\n",
      "Successfully loaded file: 2\n",
      "Successfully loaded file: 3\n",
      "Successfully loaded file: 4\n",
      "Successfully loaded file: 5\n",
      "Successfully loaded file: 6\n",
      "Successfully loaded file: 7\n",
      "Successfully loaded file: 8\n",
      "Successfully loaded file: 9\n",
      "Successfully loaded file: 10\n",
      "Successfully loaded file: 11\n",
      "Successfully loaded file: 12\n",
      "Successfully loaded file: 13\n",
      "Successfully loaded file: 14\n",
      "Successfully loaded file: 15\n",
      "Successfully loaded file: 16\n",
      "Successfully loaded file: 17\n",
      "Successfully loaded file: 18\n",
      "Successfully loaded file: 19\n",
      "Successfully loaded file: 20\n",
      "Successfully loaded file: 21\n",
      "Successfully loaded file: 22\n",
      "Successfully loaded file: 23\n",
      "Successfully loaded file: 24\n",
      "Successfully loaded file: 25\n",
      "Successfully loaded file: 26\n",
      "Successfully loaded file: 27\n",
      "Successfully loaded file: 28\n",
      "Successfully loaded file: 29\n"
     ]
    }
   ],
   "source": [
    "def load_file(path, batch_id):\n",
    "    \"\"\"\n",
    "    Loads in the memory a specific batch located in the given path.\n",
    "\n",
    "    Returns a numpy NpzFile object with the image frames np array named\n",
    "    as \"frames\" and the force measurements named as \"frames\".\n",
    "    \"\"\"\n",
    "    combined_path = os.path.join(path,file_name %i)\n",
    "    data = np.load(combined_path)\n",
    "    return data\n",
    "\n",
    "# how many files to load\n",
    "files_num = 30\n",
    "for i in range(files_num):\n",
    "    data = load_file(path, i)\n",
    "    features_train = torch.from_numpy(data['frames'])\n",
    "    targets_train = torch.from_numpy(data['forces'][:,2])\n",
    "    print(\"Successfully loaded file:\",i)\n",
    "    # Perform training"
   ]
  }
 ],
 "metadata": {
  "kernelspec": {
   "display_name": "Python 3",
   "language": "python",
   "name": "python3"
  },
  "language_info": {
   "codemirror_mode": {
    "name": "ipython",
    "version": 3
   },
   "file_extension": ".py",
   "mimetype": "text/x-python",
   "name": "python",
   "nbconvert_exporter": "python",
   "pygments_lexer": "ipython3",
   "version": "3.8.7"
  }
 },
 "nbformat": 4,
 "nbformat_minor": 2
}
