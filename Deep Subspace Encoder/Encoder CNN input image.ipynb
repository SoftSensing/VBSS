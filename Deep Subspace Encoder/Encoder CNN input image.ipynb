{
 "cells": [
  {
   "cell_type": "code",
   "execution_count": 2,
   "id": "ad2460d2",
   "metadata": {},
   "outputs": [],
   "source": [
    "import deepSI\n",
    "from deepSI import System_data, System_data_list\n",
    "import numpy as np\n",
    "from matplotlib import pyplot as plt\n",
    "import torch\n",
    "from torch import optim, nn\n",
    "from tqdm.auto import tqdm\n",
    "import matplotlib\n",
    "matplotlib.rcParams['pdf.fonttype'] = 42\n",
    "matplotlib.rcParams['ps.fonttype'] = 42\n",
    "#%config InlineBackend.figure_formats = ['svg']"
   ]
  },
  {
   "cell_type": "code",
   "execution_count": null,
   "id": "84c171a2",
   "metadata": {},
   "outputs": [],
   "source": []
  },
  {
   "cell_type": "code",
   "execution_count": 8,
   "id": "a3913141",
   "metadata": {},
   "outputs": [],
   "source": [
    "from deepSI.utils.torch_nets import CNN_encoder\n",
    "\n",
    "\n",
    "#Psi(upast, ypast) where upast is an image and ypast an vector\n",
    "#nb, nu, na, ny, nx\n",
    "class CNN_encoder_image_input(nn.Module):\n",
    "    def __init__(self, nb, nu, na, ny, nx, n_nodes_per_layer=64, n_hidden_layers=2, activation=nn.Tanh, features_ups_factor=1.33):\n",
    "        super(CNN_encoder_image_input, self).__init__()\n",
    "        self.net = CNN_encoder(na, ny, nb, nu, nx, \\\n",
    "                               n_nodes_per_layer=n_nodes_per_layer, \\\n",
    "                               n_hidden_layers=n_hidden_layers, \\\n",
    "                                activation=activation, \\\n",
    "                                features_ups_factor=features_ups_factor)\n",
    "\n",
    "    def forward(self, upast, ypast):\n",
    "        return self.net(ypast, upast)\n",
    "\n",
    "#nx, nu\n",
    "class CNN_encoder_f_image(nn.Module):\n",
    "    def __init__(self, nx, nu, n_nodes_per_layer=64, n_hidden_layers=2, activation=nn.Tanh, features_ups_factor=1.33):\n",
    "        super(CNN_encoder_f_image, self).__init__()\n",
    "        self.net = CNN_encoder(1, nx, 1, nu, nx, \\\n",
    "                               n_nodes_per_layer=n_nodes_per_layer, \\\n",
    "                               n_hidden_layers=n_hidden_layers, \\\n",
    "                                activation=activation, \\\n",
    "                                features_ups_factor=features_ups_factor)\n",
    "\n",
    "    def forward(self, x, u):\n",
    "        #x.shape = (Nbatch, nx)\n",
    "        #u.shape = (Nbatch, C, H, W)\n",
    "\n",
    "        #self.net \n",
    "        # x -> upast = (Nbatch, nb, nu)\n",
    "        # u -> ypast = (Nbatch, na, C, H, W)\n",
    "        return self.net(x[:,None], u[:,None])\n",
    "    \n",
    "#nx, ny, nu=-1\n",
    "class CNN_encoder_h_image(nn.Module):\n",
    "    def __init__(self, nx, ny, nu, n_nodes_per_layer=64, n_hidden_layers=2, activation=nn.Tanh, features_ups_factor=1.33):\n",
    "        super(CNN_encoder_h_image, self).__init__()\n",
    "        self.net = CNN_encoder(1, nx, 1, nu, ny, \\\n",
    "                               n_nodes_per_layer=n_nodes_per_layer, \\\n",
    "                               n_hidden_layers=n_hidden_layers, \\\n",
    "                                activation=activation, \\\n",
    "                                features_ups_factor=features_ups_factor)\n",
    "\n",
    "    def forward(self, x, u):\n",
    "        #x.shape = (Nbatch, nx)\n",
    "        #u.shape = (Nbatch, C, H, W)\n",
    "\n",
    "        #self.net \n",
    "        # x -> upast = (Nbatch, nb, nu)\n",
    "        # u -> ypast = (Nbatch, na, C, H, W)\n",
    "        return self.net(x[:,None], u[:,None])\n",
    "\n"
   ]
  },
  {
   "cell_type": "code",
   "execution_count": 14,
   "id": "f4c63561",
   "metadata": {},
   "outputs": [],
   "source": [
    "# from deepSI.utils import CNN_chained_upscales, CNN_encoder\n",
    "from deepSI.fit_systems import SS_encoder_general\n",
    "\n",
    "class SS_encoder_CNN_video_input(SS_encoder_general):\n",
    "    \"\"\"The subspace encoder convolutonal neural network with image inputs\n",
    "\n",
    "    Notes\n",
    "    -----\n",
    "    The subspace encoder\n",
    "\n",
    "    \"\"\"\n",
    "    def __init__(self, nx=10, na=20, nb=20, feedthrough=True, e_net=CNN_encoder_image_input, \\\n",
    "                 f_net=CNN_encoder_f_image, h_net=CNN_encoder_h_image, \\\n",
    "                                            e_net_kwargs={}, f_net_kwargs={}, h_net_kwargs={}):\n",
    "        super(SS_encoder_CNN_video_input, self).__init__(nx=nx,na=na,nb=nb, feedthrough=feedthrough, \\\n",
    "            e_net=e_net,               f_net=f_net,                h_net=h_net, \\\n",
    "            e_net_kwargs=e_net_kwargs, f_net_kwargs=f_net_kwargs,  h_net_kwargs=h_net_kwargs)\n",
    "\n",
    "model = SS_encoder_CNN_video_input(nx=3, na=50, nb=5)\n",
    "\n",
    "nu = (3,25,30)\n",
    "ny = 1\n",
    "N = 200\n",
    "\n",
    "u_seq = np.random.randn(N,*nu)\n",
    "y_seq = np.random.randn(N, ny)\n",
    "\n",
    "sys_data = System_data(u_seq, y_seq)\n",
    "\n",
    "model.init_model(nu=(3,25,30), ny=1)\n"
   ]
  },
  {
   "cell_type": "code",
   "execution_count": 21,
   "id": "c068150b",
   "metadata": {},
   "outputs": [],
   "source": [
    "t = lambda x: torch.as_tensor(x, dtype=torch.float32)\n",
    "\n",
    "upast, ypast, ufuture, yfuture = [t(x) for x in model.make_training_data(model.norm.transform(sys_data), nf=4)]"
   ]
  },
  {
   "cell_type": "code",
   "execution_count": 22,
   "id": "81166aaf",
   "metadata": {},
   "outputs": [
    {
     "name": "stdout",
     "output_type": "stream",
     "text": [
      "upast.shape=torch.Size([147, 5, 3, 25, 30])\n",
      "ypast.shape=torch.Size([147, 50, 1])\n",
      "ufuture.shape=torch.Size([147, 4, 3, 25, 30])\n",
      "yfuture.shape=torch.Size([147, 4, 1])\n"
     ]
    }
   ],
   "source": [
    "print(f'{upast.shape=}')\n",
    "print(f'{ypast.shape=}')\n",
    "print(f'{ufuture.shape=}')\n",
    "print(f'{yfuture.shape=}')\n",
    "\n",
    "xinit = model.encoder(upast, ypast)"
   ]
  },
  {
   "cell_type": "code",
   "execution_count": 25,
   "id": "5ec36cd7",
   "metadata": {},
   "outputs": [],
   "source": [
    "xnext = model.fn(xinit,ufuture[:,0])"
   ]
  },
  {
   "cell_type": "code",
   "execution_count": 26,
   "id": "c4ddeacc",
   "metadata": {},
   "outputs": [],
   "source": [
    "ynext = model.hn(xnext,ufuture[:,1])\n"
   ]
  },
  {
   "cell_type": "code",
   "execution_count": 28,
   "id": "7329e112",
   "metadata": {},
   "outputs": [
    {
     "data": {
      "text/plain": [
       "torch.Size([147, 1])"
      ]
     },
     "execution_count": 28,
     "metadata": {},
     "output_type": "execute_result"
    }
   ],
   "source": [
    "ynext.shape"
   ]
  }
 ],
 "metadata": {
  "kernelspec": {
   "display_name": "Python 3 (ipykernel)",
   "language": "python",
   "name": "python3"
  },
  "language_info": {
   "codemirror_mode": {
    "name": "ipython",
    "version": 3
   },
   "file_extension": ".py",
   "mimetype": "text/x-python",
   "name": "python",
   "nbconvert_exporter": "python",
   "pygments_lexer": "ipython3",
   "version": "3.8.8"
  }
 },
 "nbformat": 4,
 "nbformat_minor": 5
}
