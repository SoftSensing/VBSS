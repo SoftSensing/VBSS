{
 "cells": [
  {
   "cell_type": "code",
   "execution_count": 34,
   "metadata": {
    "tags": [],
    "ExecuteTime": {
     "end_time": "2024-05-09T13:36:33.151986600Z",
     "start_time": "2024-05-09T13:36:28.330965900Z"
    }
   },
   "outputs": [
    {
     "name": "stdout",
     "output_type": "stream",
     "text": [
      "Collecting git+https://github.com/GerbenBeintema/deepSI@master\n",
      "  Cloning https://github.com/GerbenBeintema/deepSI (to revision master) to c:\\users\\klaem\\appdata\\local\\temp\\pip-req-build-1sj17_38\n",
      "  Resolved https://github.com/GerbenBeintema/deepSI to commit 28c96c174fa2e1c83aeb26091d67785d468a4bee\n",
      "  Preparing metadata (setup.py): started\n",
      "  Preparing metadata (setup.py): finished with status 'done'\n",
      "Requirement already satisfied: numpy in c:\\users\\klaem\\appdata\\local\\programs\\python\\python310\\lib\\site-packages (from deepSI==0.3.22) (1.23.5)\n",
      "Requirement already satisfied: matplotlib in c:\\users\\klaem\\appdata\\local\\programs\\python\\python310\\lib\\site-packages (from deepSI==0.3.22) (3.7.1)\n",
      "Requirement already satisfied: scipy in c:\\users\\klaem\\appdata\\local\\programs\\python\\python310\\lib\\site-packages (from deepSI==0.3.22) (1.10.1)\n",
      "Requirement already satisfied: tqdm in c:\\users\\klaem\\appdata\\local\\programs\\python\\python310\\lib\\site-packages (from deepSI==0.3.22) (4.65.0)\n",
      "Requirement already satisfied: progressbar in c:\\users\\klaem\\appdata\\local\\programs\\python\\python310\\lib\\site-packages (from deepSI==0.3.22) (2.5)\n",
      "Requirement already satisfied: torch in c:\\users\\klaem\\appdata\\local\\programs\\python\\python310\\lib\\site-packages (from deepSI==0.3.22) (2.0.0+cu118)\n",
      "Requirement already satisfied: scikit-learn in c:\\users\\klaem\\appdata\\local\\programs\\python\\python310\\lib\\site-packages (from deepSI==0.3.22) (1.2.2)\n",
      "Requirement already satisfied: gym in c:\\users\\klaem\\appdata\\local\\programs\\python\\python310\\lib\\site-packages (from deepSI==0.3.22) (0.23.1)\n",
      "Requirement already satisfied: opencv-python in c:\\users\\klaem\\appdata\\local\\programs\\python\\python310\\lib\\site-packages (from deepSI==0.3.22) (4.7.0.72)\n",
      "Requirement already satisfied: requests in c:\\users\\klaem\\appdata\\local\\programs\\python\\python310\\lib\\site-packages (from deepSI==0.3.22) (2.28.2)\n",
      "Requirement already satisfied: rarfile in c:\\users\\klaem\\appdata\\local\\programs\\python\\python310\\lib\\site-packages (from deepSI==0.3.22) (4.0)\n",
      "Requirement already satisfied: cloudpickle>=1.2.0 in c:\\users\\klaem\\appdata\\local\\programs\\python\\python310\\lib\\site-packages (from gym->deepSI==0.3.22) (2.2.1)\n",
      "Requirement already satisfied: gym-notices>=0.0.4 in c:\\users\\klaem\\appdata\\local\\programs\\python\\python310\\lib\\site-packages (from gym->deepSI==0.3.22) (0.0.8)\n",
      "Requirement already satisfied: contourpy>=1.0.1 in c:\\users\\klaem\\appdata\\local\\programs\\python\\python310\\lib\\site-packages (from matplotlib->deepSI==0.3.22) (1.0.7)\n",
      "Requirement already satisfied: cycler>=0.10 in c:\\users\\klaem\\appdata\\local\\programs\\python\\python310\\lib\\site-packages (from matplotlib->deepSI==0.3.22) (0.11.0)\n",
      "Requirement already satisfied: fonttools>=4.22.0 in c:\\users\\klaem\\appdata\\local\\programs\\python\\python310\\lib\\site-packages (from matplotlib->deepSI==0.3.22) (4.39.3)\n",
      "Requirement already satisfied: kiwisolver>=1.0.1 in c:\\users\\klaem\\appdata\\local\\programs\\python\\python310\\lib\\site-packages (from matplotlib->deepSI==0.3.22) (1.4.4)\n",
      "Requirement already satisfied: packaging>=20.0 in c:\\users\\klaem\\appdata\\local\\programs\\python\\python310\\lib\\site-packages (from matplotlib->deepSI==0.3.22) (23.1)\n",
      "Requirement already satisfied: pillow>=6.2.0 in c:\\users\\klaem\\appdata\\local\\programs\\python\\python310\\lib\\site-packages (from matplotlib->deepSI==0.3.22) (9.5.0)\n",
      "Requirement already satisfied: pyparsing>=2.3.1 in c:\\users\\klaem\\appdata\\local\\programs\\python\\python310\\lib\\site-packages (from matplotlib->deepSI==0.3.22) (3.0.9)\n",
      "Requirement already satisfied: python-dateutil>=2.7 in c:\\users\\klaem\\appdata\\local\\programs\\python\\python310\\lib\\site-packages (from matplotlib->deepSI==0.3.22) (2.8.2)\n",
      "Requirement already satisfied: charset-normalizer<4,>=2 in c:\\users\\klaem\\appdata\\local\\programs\\python\\python310\\lib\\site-packages (from requests->deepSI==0.3.22) (3.1.0)\n",
      "Requirement already satisfied: idna<4,>=2.5 in c:\\users\\klaem\\appdata\\local\\programs\\python\\python310\\lib\\site-packages (from requests->deepSI==0.3.22) (3.4)\n",
      "Requirement already satisfied: urllib3<1.27,>=1.21.1 in c:\\users\\klaem\\appdata\\local\\programs\\python\\python310\\lib\\site-packages (from requests->deepSI==0.3.22) (1.26.15)\n",
      "Requirement already satisfied: certifi>=2017.4.17 in c:\\users\\klaem\\appdata\\local\\programs\\python\\python310\\lib\\site-packages (from requests->deepSI==0.3.22) (2022.12.7)\n",
      "Requirement already satisfied: joblib>=1.1.1 in c:\\users\\klaem\\appdata\\local\\programs\\python\\python310\\lib\\site-packages (from scikit-learn->deepSI==0.3.22) (1.2.0)\n",
      "Requirement already satisfied: threadpoolctl>=2.0.0 in c:\\users\\klaem\\appdata\\local\\programs\\python\\python310\\lib\\site-packages (from scikit-learn->deepSI==0.3.22) (3.1.0)\n",
      "Requirement already satisfied: filelock in c:\\users\\klaem\\appdata\\local\\programs\\python\\python310\\lib\\site-packages (from torch->deepSI==0.3.22) (3.12.0)\n",
      "Requirement already satisfied: typing-extensions in c:\\users\\klaem\\appdata\\local\\programs\\python\\python310\\lib\\site-packages (from torch->deepSI==0.3.22) (4.5.0)\n",
      "Requirement already satisfied: sympy in c:\\users\\klaem\\appdata\\local\\programs\\python\\python310\\lib\\site-packages (from torch->deepSI==0.3.22) (1.11.1)\n",
      "Requirement already satisfied: networkx in c:\\users\\klaem\\appdata\\local\\programs\\python\\python310\\lib\\site-packages (from torch->deepSI==0.3.22) (3.1)\n",
      "Requirement already satisfied: jinja2 in c:\\users\\klaem\\appdata\\local\\programs\\python\\python310\\lib\\site-packages (from torch->deepSI==0.3.22) (3.1.2)\n",
      "Requirement already satisfied: colorama in c:\\users\\klaem\\appdata\\local\\programs\\python\\python310\\lib\\site-packages (from tqdm->deepSI==0.3.22) (0.4.6)\n",
      "Requirement already satisfied: six>=1.5 in c:\\users\\klaem\\appdata\\local\\programs\\python\\python310\\lib\\site-packages (from python-dateutil>=2.7->matplotlib->deepSI==0.3.22) (1.16.0)\n",
      "Requirement already satisfied: MarkupSafe>=2.0 in c:\\users\\klaem\\appdata\\local\\programs\\python\\python310\\lib\\site-packages (from jinja2->torch->deepSI==0.3.22) (2.1.2)\n",
      "Requirement already satisfied: mpmath>=0.19 in c:\\users\\klaem\\appdata\\local\\programs\\python\\python310\\lib\\site-packages (from sympy->torch->deepSI==0.3.22) (1.3.0)\n"
     ]
    },
    {
     "name": "stderr",
     "output_type": "stream",
     "text": [
      "  Running command git clone --filter=blob:none --quiet https://github.com/GerbenBeintema/deepSI 'C:\\Users\\klaem\\AppData\\Local\\Temp\\pip-req-build-1sj17_38'\n",
      "\n",
      "[notice] A new release of pip is available: 23.1.2 -> 24.0\n",
      "[notice] To update, run: C:\\Users\\klaem\\AppData\\Local\\Programs\\Python\\Python310\\python.exe -m pip install --upgrade pip\n"
     ]
    }
   ],
   "source": [
    "!pip install --user git+https://github.com/GerbenBeintema/deepSI@master"
   ]
  },
  {
   "cell_type": "code",
   "execution_count": 35,
   "metadata": {
    "tags": [],
    "ExecuteTime": {
     "end_time": "2024-05-09T13:36:33.195772200Z",
     "start_time": "2024-05-09T13:36:33.153475400Z"
    }
   },
   "outputs": [],
   "source": [
    "import sys\n",
    "#sys.path.insert(0, '/gpfs/scratch1/nodespecific/gcn3/klaemers.6208466/pip-req-build-cdv8bmd8')\n",
    "import deepSI\n",
    "import numpy as np\n",
    "import cv2\n",
    "from deepSI import System_data\n",
    "from matplotlib import pyplot as plt"
   ]
  },
  {
   "cell_type": "code",
   "execution_count": 36,
   "metadata": {
    "tags": [],
    "ExecuteTime": {
     "end_time": "2024-05-09T13:36:35.088506100Z",
     "start_time": "2024-05-09T13:36:33.167996800Z"
    }
   },
   "outputs": [],
   "source": [
    "# Load the npz file\n",
    "filen = 'combined_data_dome1.npz'\n",
    "data = np.load(filen, allow_pickle=True)\n",
    "\n",
    "# Assuming you have arrays 'frames' and 'forces' within your npz file\n",
    "frames = data['frames']\n",
    "forces = data['forces']\n",
    "\n",
    "# Determine the size of each set\n",
    "total_size = len(frames)\n",
    "train_size = int(total_size * 0.5)  # 50% of the data for training\n",
    "val_size = int(total_size * 0.20)  # 20% of the data for validation\n",
    "test_size = total_size - train_size - val_size  # Remaining 30% for testing\n",
    "\n",
    "# Function to resize and reshape frames\n",
    "def resize_and_reshape_frames(frames, batch_size, new_height, new_width):\n",
    "    num_frames = frames.shape[0]\n",
    "    resized_and_reshaped_frames = np.zeros((num_frames, frames.shape[3], new_height, new_width), dtype=np.uint8)\n",
    "    for start in range(0, num_frames, batch_size):\n",
    "        end = start + batch_size\n",
    "        batch_frames = frames[start:end]\n",
    "        for i in range(batch_frames.shape[0]):\n",
    "            resized_frame = cv2.resize(batch_frames[i], (new_width, new_height), interpolation=cv2.INTER_LINEAR)\n",
    "            resized_and_reshaped_frames[start + i] = resized_frame.transpose(2, 0, 1)\n",
    "    return resized_and_reshaped_frames\n",
    "\n",
    "# Resize and reshape parameters\n",
    "new_height = frames.shape[1] // 2\n",
    "new_width = frames.shape[2] // 2\n",
    "batch_size = 30\n",
    "\n",
    "# Resize and reshape all frames\n",
    "frames_resized_reshaped = resize_and_reshape_frames(frames, batch_size, new_height, new_width)"
   ]
  },
  {
   "cell_type": "code",
   "execution_count": 37,
   "metadata": {
    "ExecuteTime": {
     "end_time": "2024-05-09T13:36:35.212009900Z",
     "start_time": "2024-05-09T13:36:35.090521Z"
    }
   },
   "outputs": [],
   "source": [
    "# Split the data\n",
    "frames_train = frames_resized_reshaped[:train_size]\n",
    "frames_val = frames_resized_reshaped[train_size:train_size + val_size]\n",
    "frames_test = frames_resized_reshaped[train_size + val_size:]\n",
    "\n",
    "forces_train = forces[:train_size, 3]\n",
    "forces_val = forces[train_size:train_size + val_size, 3]\n",
    "forces_test = forces[train_size + val_size:, 3]\n",
    "\n",
    "# Initialize the SS_encoder_CNN_video system\n",
    "sys_vbss = deepSI.fit_systems.SS_encoder_CNN_video(na=20, nb=20)\n",
    "n_channels, height, width = frames_train.shape[1], frames_train.shape[2], frames_train.shape[3]\n",
    "sys_vbss.init_nets(nu=1, ny=(n_channels, height, width))\n",
    "\n",
    "# Create System_data instances with resized and reshaped frames\n",
    "system_data = System_data(u=forces_train, y=frames_train)\n",
    "system_data_val = System_data(u=forces_val, y=frames_val)\n",
    "system_data_test = System_data(u=forces_test, y=frames_test)\n",
    "sys_vbss.n_step_error()"
   ]
  },
  {
   "cell_type": "code",
   "execution_count": 38,
   "metadata": {
    "ExecuteTime": {
     "end_time": "2024-05-09T13:36:35.233833500Z",
     "start_time": "2024-05-09T13:36:35.213001600Z"
    }
   },
   "outputs": [],
   "source": [
    "# Customize normalization for training, validation, and test sets\n",
    "#sys_vbss.use_norm = False  # Disable automatic normalization\n",
    "\n",
    "# Normalize the frames by computing mean and standard deviation over samples, height, and width\n",
    "#sys_vbss.norm.y0 = np.mean(system_data.y, axis=(0, 2, 3))[:, None, None]\n",
    "#sys_vbss.norm.ystd = np.std(system_data.y, axis=(0, 2, 3))[:, None, None]\n",
    "\n",
    "# Normalize forces by computing mean and standard deviation over samples\n",
    "#sys_vbss.norm.u0 = np.mean(system_data.u, axis=0)\n",
    "#sys_vbss.norm.ustd = np.std(system_data.u, axis=0)"
   ]
  },
  {
   "cell_type": "code",
   "execution_count": 52,
   "metadata": {
    "ExecuteTime": {
     "end_time": "2024-05-09T14:08:22.107715Z",
     "start_time": "2024-05-09T14:08:21.925685300Z"
    }
   },
   "outputs": [
    {
     "ename": "AttributeError",
     "evalue": "'bytes' object has no attribute 'shape'",
     "output_type": "error",
     "traceback": [
      "\u001B[1;31m---------------------------------------------------------------------------\u001B[0m",
      "\u001B[1;31mAttributeError\u001B[0m                            Traceback (most recent call last)",
      "Cell \u001B[1;32mIn[52], line 4\u001B[0m\n\u001B[0;32m      1\u001B[0m \u001B[38;5;66;03m# Fit the model\u001B[39;00m\n\u001B[0;32m      2\u001B[0m \u001B[38;5;66;03m#sys.fit(system_data, val_sys_data=system_data_val, cuda=True, batch_size=64, loss_kwargs={'online_construct': True})\u001B[39;00m\n\u001B[0;32m      3\u001B[0m name \u001B[38;5;241m=\u001B[39m \u001B[38;5;124m\"\u001B[39m\u001B[38;5;124mmodel\u001B[39m\u001B[38;5;124m\"\u001B[39m\n\u001B[1;32m----> 4\u001B[0m sys_vbss \u001B[38;5;241m=\u001B[39m \u001B[43mdeepSI\u001B[49m\u001B[38;5;241;43m.\u001B[39;49m\u001B[43mload_system_data\u001B[49m\u001B[43m(\u001B[49m\u001B[43mname\u001B[49m\u001B[43m)\u001B[49m\n",
      "File \u001B[1;32m~\\AppData\\Local\\Programs\\Python\\Python310\\lib\\site-packages\\deepSI\\system_data\\system_data.py:19\u001B[0m, in \u001B[0;36mload_system_data\u001B[1;34m(file)\u001B[0m\n\u001B[0;32m     17\u001B[0m     \u001B[38;5;28;01mreturn\u001B[39;00m System_data_list(sys_data_list \u001B[38;5;241m=\u001B[39m [get_sys_data(o) \u001B[38;5;28;01mfor\u001B[39;00m o \u001B[38;5;129;01min\u001B[39;00m outfile[\u001B[38;5;124m'\u001B[39m\u001B[38;5;124msdl\u001B[39m\u001B[38;5;124m'\u001B[39m]])\n\u001B[0;32m     18\u001B[0m \u001B[38;5;28;01melse\u001B[39;00m:\n\u001B[1;32m---> 19\u001B[0m     \u001B[38;5;28;01mreturn\u001B[39;00m \u001B[43mget_sys_data\u001B[49m\u001B[43m(\u001B[49m\u001B[43moutfile\u001B[49m\u001B[43m)\u001B[49m\n",
      "File \u001B[1;32m~\\AppData\\Local\\Programs\\Python\\Python310\\lib\\site-packages\\deepSI\\system_data\\system_data.py:13\u001B[0m, in \u001B[0;36mload_system_data.<locals>.get_sys_data\u001B[1;34m(data)\u001B[0m\n\u001B[0;32m     11\u001B[0m \u001B[38;5;28;01mdef\u001B[39;00m \u001B[38;5;21mget_sys_data\u001B[39m(data):\n\u001B[0;32m     12\u001B[0m     \u001B[38;5;28;01mfor\u001B[39;00m k \u001B[38;5;129;01min\u001B[39;00m data:\n\u001B[1;32m---> 13\u001B[0m         \u001B[38;5;28;01mif\u001B[39;00m \u001B[43mdata\u001B[49m\u001B[43m[\u001B[49m\u001B[43mk\u001B[49m\u001B[43m]\u001B[49m\u001B[38;5;241;43m.\u001B[39;49m\u001B[43mshape\u001B[49m\u001B[38;5;241m==\u001B[39m\u001B[38;5;28mtuple\u001B[39m(): \u001B[38;5;66;03m#if it is a single element\u001B[39;00m\n\u001B[0;32m     14\u001B[0m             data[k] \u001B[38;5;241m=\u001B[39m data[k]\u001B[38;5;241m.\u001B[39mtolist()\n\u001B[0;32m     15\u001B[0m     \u001B[38;5;28;01mreturn\u001B[39;00m System_data(\u001B[38;5;241m*\u001B[39m\u001B[38;5;241m*\u001B[39mdata)\n",
      "\u001B[1;31mAttributeError\u001B[0m: 'bytes' object has no attribute 'shape'"
     ]
    }
   ],
   "source": [
    "# Fit the model\n",
    "#sys.fit(system_data, val_sys_data=system_data_val, cuda=True, batch_size=64, loss_kwargs={'online_construct': True})\n",
    "name = \"model\"\n",
    "sys_vbss = deepSI.load_system_data(name)\n"
   ]
  },
  {
   "cell_type": "code",
   "execution_count": null,
   "metadata": {},
   "outputs": [],
   "source": [
    "# Save the model\n",
    "#sys.save_system('model2_best')"
   ]
  },
  {
   "cell_type": "code",
   "execution_count": null,
   "metadata": {},
   "outputs": [],
   "source": [
    "test_p = sys_vbss.apply_experiment(system_data_test)"
   ]
  },
  {
   "cell_type": "code",
   "execution_count": null,
   "metadata": {},
   "outputs": [],
   "source": [
    "from plot_scripts import strip_plotter"
   ]
  },
  {
   "cell_type": "code",
   "execution_count": null,
   "metadata": {},
   "outputs": [],
   "source": [
    "to_img = lambda image: np.transpose(np.clip(np.round(image), 0, 255).astype(np.uint8), (1, 2, 0))\n",
    "strip_plotter(system_data_test, test_p, sys_vbss.norm, to_img=to_img, filename='figures/strip-UD.jpg')"
   ]
  },
  {
   "cell_type": "code",
   "execution_count": null,
   "metadata": {},
   "outputs": [],
   "source": [
    "from plot_scripts import make_video_as_avi"
   ]
  },
  {
   "cell_type": "code",
   "execution_count": null,
   "metadata": {},
   "outputs": [],
   "source": [
    "k = test_p.cheat_n\n",
    "make_video_as_avi(system_data_test[k:k+30*60],test_p[k:k+30*60],sys_vbss.norm, to_img=to_img, target_fps=30, filename='movies/UD-test-short.mp4')"
   ]
  },
  {
   "cell_type": "code",
   "execution_count": null,
   "metadata": {},
   "outputs": [],
   "source": []
  }
 ],
 "metadata": {
  "kernelspec": {
   "display_name": "Python 3 (ipykernel)",
   "language": "python",
   "name": "python3"
  },
  "language_info": {
   "codemirror_mode": {
    "name": "ipython",
    "version": 3
   },
   "file_extension": ".py",
   "mimetype": "text/x-python",
   "name": "python",
   "nbconvert_exporter": "python",
   "pygments_lexer": "ipython3",
   "version": "3.11.3"
  }
 },
 "nbformat": 4,
 "nbformat_minor": 4
}
