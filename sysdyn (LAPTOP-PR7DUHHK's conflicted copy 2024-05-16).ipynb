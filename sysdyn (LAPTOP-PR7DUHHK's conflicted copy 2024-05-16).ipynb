{
 "cells": [
  {
   "cell_type": "code",
   "execution_count": null,
   "metadata": {
    "collapsed": true
   },
   "outputs": [],
   "source": [
    "!pip install git+https://github.com/GerbenBeintema/deepSI@master\n",
    "!pip install numpy, matplotlib, scipy"
   ]
  },
  {
   "cell_type": "code",
   "execution_count": null,
   "outputs": [],
   "source": [
    "import deepSI\n",
    "import numpy as np\n",
    "import cv2\n",
    "from deepSI import System_data\n",
    "from matplotlib import pyplot as plt"
   ],
   "metadata": {
    "collapsed": false
   }
  },
  {
   "cell_type": "code",
   "execution_count": null,
   "outputs": [],
   "source": [
    "# Load your data\n",
    "filen = 'combined_data.npz'\n",
    "data = np.load(filen)\n",
    "frames = data['frames']  # Shape: (num_frames, height, width, channels)\n",
    "forces_data = data['forces'][:, 3]  # Shape: (num_frames,)\n",
    "\n",
    "# Assuming index 8300 is the start of your validation data\n",
    "index = 8300\n",
    "\n",
    "# Function to resize frames\n",
    "def resize_frames_batch(frames, batch_size, new_height, new_width):\n",
    "    num_frames = frames.shape[0]\n",
    "    resized_frames = np.zeros((num_frames, new_height, new_width, frames.shape[3]), dtype=np.uint8)\n",
    "    for start in range(0, num_frames, batch_size):\n",
    "        end = start + batch_size\n",
    "        batch_frames = frames[start:end]\n",
    "        for i in range(batch_frames.shape[0]):\n",
    "            resized_frames[start + i] = cv2.resize(batch_frames[i], (new_width, new_height), interpolation=cv2.INTER_LINEAR)\n",
    "    return resized_frames\n",
    "\n",
    "# Resize parameters\n",
    "new_height = frames.shape[1] // 8\n",
    "new_width = frames.shape[2] // 8\n",
    "\n",
    "batch_size = 100  # Adjust based on your system's capability\n",
    "frames_resized = resize_frames_batch(frames, batch_size, new_height, new_width)\n",
    "frames_train = frames_resized[:index]  # Training frames resized\n",
    "frames_val = frames_resized[index:]  # Validation frames resized\n",
    "\n",
    "# Reshape frames to match the expected input shape\n",
    "frames_reshaped = frames_resized.transpose(0, 3, 1, 2)  # New shape: (num_frames, channels, height, width)\n",
    "frames_val_reshaped = frames_val.transpose(0, 3, 1, 2)\n",
    "\n",
    "# Split forces data into training and validation sets\n",
    "forces_data_train = forces_data[:index]  # Training forces data\n",
    "forces_data_val = forces_data[index:]  # Validation forces data\n",
    "\n",
    "# Initialize the SS_encoder_CNN_video system\n",
    "sys = deepSI.fit_systems.SS_encoder_CNN_video()\n",
    "\n",
    "# Update shape based on resized data\n",
    "n_channels, height, width = frames_reshaped.shape[1], frames_reshaped.shape[2], frames_reshaped.shape[3]\n",
    "sys.init_nets(nu=1, ny=(n_channels, height, width))\n",
    "\n",
    "# Create System_data instances with resized frames\n",
    "system_data = System_data(u=forces_data_train, y=frames_reshaped[:index])\n",
    "system_data_val = System_data(u=forces_data_val, y=frames_val_reshaped)\n",
    "\n",
    "# Check shapes and types\n",
    "print(\"Reshaped frames shape:\", frames_reshaped.shape)\n",
    "print(\"Forces data shape:\", forces_data.shape)\n",
    "print(\"Reshaped frames dtype:\", frames_reshaped.dtype)\n",
    "print(\"Forces data dtype:\", forces_data.dtype)\n",
    "print(system_data)\n",
    "\n",
    "# Plot force data\n",
    "plt.plot(system_data.u)\n",
    "plt.xlabel('Time')\n",
    "plt.ylabel('Force Data')\n",
    "plt.title('Force Data Over Time')\n",
    "plt.show()\n",
    "\n",
    "# Fit the model\n",
    "sys.fit(system_data, val_sys_data=system_data_val, concurrent_val=True, cuda=True)"
   ],
   "metadata": {
    "collapsed": false
   }
  },
  {
   "cell_type": "code",
   "execution_count": null,
   "outputs": [],
   "source": [],
   "metadata": {
    "collapsed": false
   }
  }
 ],
 "metadata": {
  "kernelspec": {
   "display_name": "Python 3",
   "language": "python",
   "name": "python3"
  },
  "language_info": {
   "codemirror_mode": {
    "name": "ipython",
    "version": 2
   },
   "file_extension": ".py",
   "mimetype": "text/x-python",
   "name": "python",
   "nbconvert_exporter": "python",
   "pygments_lexer": "ipython2",
   "version": "2.7.6"
  }
 },
 "nbformat": 4,
 "nbformat_minor": 0
}
